{
 "cells": [
  {
   "cell_type": "markdown",
   "metadata": {},
   "source": [
    "# Tipos de datos abstractos\r\n",
    "\r\n",
    "## En python todo es un objeto y tiene un tipo\r\n",
    "## * Representación de datos y formas de interactuar con ellos\r\n",
    "\r\n",
    "## * Formas de interactuar con un objeto\r\n",
    "## - Creación\r\n",
    "## - Manipulacion\r\n",
    "## - Destrucción"
   ]
  },
  {
   "cell_type": "markdown",
   "metadata": {},
   "source": [
    "## Ventajas\r\n",
    "\r\n",
    "Decomponer: Estructurar objetos mas pequeños Restaurante --> Sillas, empleados etc\r\n",
    "\r\n",
    "Abstracción: En un restaurante ordeno una hamburguesa, no me preocupa el proceso de creación, estoy generando una abstracción de como se genera la hamburguesa\r\n",
    "\r\n",
    "Encapsular: Esconder ciertos datos que no son importantes para aquellas personas que están utilizando nuestras clases, tipos y/o objetos"
   ]
  },
  {
   "cell_type": "code",
   "execution_count": null,
   "metadata": {},
   "outputs": [],
   "source": [
    "# Definicion de clase\r\n",
    "\r\n",
    "\r\n",
    "class <nombre_de_la_clase>(<super_clase>):\r\n",
    "\r\n",
    "    def __init__(self, <params>):\r\n",
    "        <expresion>\r\n",
    "    \r\n",
    "    def <nombre_del_metodo>(self, <params>):\r\n",
    "        <expresion>\r\n"
   ]
  },
  {
   "cell_type": "code",
   "execution_count": 9,
   "metadata": {},
   "outputs": [
    {
     "data": {
      "text/plain": [
       "'Hola Mario soy Diana, quieres ser mi pareja?'"
      ]
     },
     "execution_count": 9,
     "metadata": {},
     "output_type": "execute_result"
    }
   ],
   "source": [
    "# Definicion\r\n",
    "\r\n",
    "class Persona:\r\n",
    "    def __init__(self, nombre, edad):\r\n",
    "        self.nombre = nombre\r\n",
    "        self.edad = edad\r\n",
    "    \r\n",
    "    def saluda(self, otra_persona):\r\n",
    "        return f'Hola {otra_persona.nombre}, me llamo {self.nombre} y tengo {self.edad} años'\r\n",
    "\r\n",
    "    def pedir_el_cuadre(self, otra_persona):\r\n",
    "        return f'Hola {otra_persona.nombre} soy {self.nombre}, quieres ser mi pareja?'\r\n",
    "\r\n",
    "#Uso\r\n",
    "\r\n",
    "mario = Persona('Mario',25)\r\n",
    "diana = Persona('Diana',38)\r\n",
    "\r\n",
    "mario.saluda(diana)\r\n",
    "diana.pedir_el_cuadre(mario)"
   ]
  },
  {
   "cell_type": "markdown",
   "metadata": {},
   "source": [
    "## Instancias\r\n",
    "\r\n",
    "Los atributos de clase nos permiten\r\n",
    "* Representar datos\r\n",
    "* Procedimientos para interactuar con los mismos (metodos)\r\n",
    "* Mecanismos para esconder la representación interna\r\n",
    "\r\n",
    "* Se accede a los atributos con la notación de punto\r\n",
    "\r\n",
    "* Puede tener atributos privados. Por convención comienzan con _"
   ]
  },
  {
   "cell_type": "code",
   "execution_count": 11,
   "metadata": {},
   "outputs": [
    {
     "name": "stdout",
     "output_type": "stream",
     "text": [
      "1.4142135623730951\n",
      "22.02271554554524\n"
     ]
    }
   ],
   "source": [
    "class Coordenada:\r\n",
    "\r\n",
    "    def __init__(self, x, y):\r\n",
    "        self.x = x\r\n",
    "        self.y = y\r\n",
    "\r\n",
    "    def distancia(self, otra_coordenada):\r\n",
    "        x_diff = (self.x - otra_coordenada.x)**2\r\n",
    "        y_diff = (self.y - otra_coordenada.y)**2\r\n",
    "\r\n",
    "        return (x_diff + y_diff)**0.5\r\n",
    "\r\n",
    "a = Coordenada(1,1)\r\n",
    "b = Coordenada(0,0)\r\n",
    "\r\n",
    "d = a.distancia(b)\r\n",
    "\r\n",
    "print(d)\r\n",
    "\r\n",
    "if __name__ == '__main__':\r\n",
    "    coord_1 = Coordenada(3,30)\r\n",
    "    coord_2 = Coordenada(4,8)\r\n",
    "\r\n",
    "    print(coord_1.distancia(coord_2))\r\n"
   ]
  },
  {
   "cell_type": "markdown",
   "metadata": {},
   "source": [
    "## Metodo isinstance"
   ]
  },
  {
   "cell_type": "code",
   "execution_count": 12,
   "metadata": {},
   "outputs": [
    {
     "name": "stdout",
     "output_type": "stream",
     "text": [
      "True\n"
     ]
    }
   ],
   "source": [
    "print(isinstance(a, Coordenada))"
   ]
  },
  {
   "cell_type": "code",
   "execution_count": null,
   "metadata": {},
   "outputs": [],
   "source": []
  }
 ],
 "metadata": {
  "interpreter": {
   "hash": "6d46af94c2bbce495f1e668725902fa517c90b1782bcfe2fce0dd9868df553d3"
  },
  "kernelspec": {
   "display_name": "Python 3.8.5 64-bit ('base': conda)",
   "name": "python3"
  },
  "language_info": {
   "codemirror_mode": {
    "name": "ipython",
    "version": 3
   },
   "file_extension": ".py",
   "mimetype": "text/x-python",
   "name": "python",
   "nbconvert_exporter": "python",
   "pygments_lexer": "ipython3",
   "version": "3.8.5"
  },
  "orig_nbformat": 4
 },
 "nbformat": 4,
 "nbformat_minor": 2
}