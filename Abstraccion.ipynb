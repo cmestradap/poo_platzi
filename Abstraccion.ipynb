{
 "cells": [
  {
   "cell_type": "markdown",
   "metadata": {},
   "source": [
    "# Abstracción\r\n",
    "\r\n",
    "* Enfocarnos en la informacion relevante\r\n",
    "* Separar la información central de los detalles secundarios\r\n",
    "* Podemos utilizar variables y métodos (privados o públicos)"
   ]
  },
  {
   "cell_type": "code",
   "execution_count": 8,
   "metadata": {},
   "outputs": [],
   "source": [
    "class Lavadora:\r\n",
    "\r\n",
    "    def __init_(self):\r\n",
    "        pass\r\n",
    "\r\n",
    "    def lavar(self, temperatura='caliente'):\r\n",
    "        self._llenar_tanque_de_agua(temperatura)\r\n",
    "        self._anadir_jabon()\r\n",
    "        self._lavar()\r\n",
    "        self._centrifugar()\r\n",
    "\r\n",
    "    # lleva guion bajo indicando que es un metodo privado\r\n",
    "    def _llenar_tanque_de_agua(self, temperatura):\r\n",
    "        print(f'Llenando el tanque con agua {temperatura}')\r\n",
    "\r\n",
    "    def _anadir_jabon(self):\r\n",
    "        print('Añadiendo jabon')\r\n",
    "\r\n",
    "    def _lavar(self):\r\n",
    "        print('Lavando la ropa')\r\n",
    "\r\n",
    "    def _centrifugar(self):\r\n",
    "        print('Centrifugando la ropa')\r\n"
   ]
  },
  {
   "cell_type": "markdown",
   "metadata": {},
   "source": [
    "## Una pregunta que nos debemos hacer constantemente es que es privado y que es publico"
   ]
  },
  {
   "cell_type": "code",
   "execution_count": 10,
   "metadata": {},
   "outputs": [
    {
     "name": "stdout",
     "output_type": "stream",
     "text": [
      "Llenando el tanque con agua caliente\n",
      "Añadiendo jabon\n",
      "Lavando la ropa\n",
      "Centrifugando la ropa\n"
     ]
    }
   ],
   "source": [
    "if __name__ == '__main__':\r\n",
    "    lavadora = Lavadora()\r\n",
    "    lavadora.lavar()"
   ]
  },
  {
   "cell_type": "code",
   "execution_count": 12,
   "metadata": {},
   "outputs": [
    {
     "name": "stdout",
     "output_type": "stream",
     "text": [
      "Este es el último mensaje...\n",
      "Buzzzzzz\n",
      "Este es el primer mensaje ;)\n"
     ]
    }
   ],
   "source": [
    "\r\n",
    "\r\n",
    "zumbido()"
   ]
  },
  {
   "cell_type": "code",
   "execution_count": null,
   "metadata": {},
   "outputs": [],
   "source": []
  }
 ],
 "metadata": {
  "interpreter": {
   "hash": "6d46af94c2bbce495f1e668725902fa517c90b1782bcfe2fce0dd9868df553d3"
  },
  "kernelspec": {
   "display_name": "Python 3.8.5 64-bit ('base': conda)",
   "name": "python3"
  },
  "language_info": {
   "codemirror_mode": {
    "name": "ipython",
    "version": 3
   },
   "file_extension": ".py",
   "mimetype": "text/x-python",
   "name": "python",
   "nbconvert_exporter": "python",
   "pygments_lexer": "ipython3",
   "version": "3.8.5"
  },
  "orig_nbformat": 4
 },
 "nbformat": 4,
 "nbformat_minor": 2
}