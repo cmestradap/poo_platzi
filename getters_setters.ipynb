{
 "cells": [
  {
   "cell_type": "markdown",
   "metadata": {},
   "source": [
    "# Getters y setters"
   ]
  },
  {
   "cell_type": "markdown",
   "metadata": {},
   "source": [
    "## A diferencia de otros lenguajes de programación, en Python los getters y setters tienen el objetivo de asegurar el encapsulamiento de datos. "
   ]
  },
  {
   "cell_type": "markdown",
   "metadata": {},
   "source": [
    "## La realidad es que en Python no existen variables netamente privadas, pues aunque se declaren con un guión bajo podemos seguir accediendo a estas. "
   ]
  },
  {
   "cell_type": "code",
   "execution_count": 27,
   "metadata": {},
   "outputs": [],
   "source": [
    "class Millas2:\r\n",
    "\tdef __init__(self, distancia = 0):\r\n",
    "\t\tself.distancia = distancia\r\n",
    "\r\n",
    "\tdef convertir_a_kilometros(self):\r\n",
    "\t\treturn (self.distancia * 1.609344)\r\n",
    "\r\n",
    "\t# Método getter\r\n",
    "\tdef obtener_distancia(self):\r\n",
    "\t\treturn self._distancia\r\n",
    "\r\n",
    "\t# Método setter\r\n",
    "\tdef definir_distancia(self, valor):\r\n",
    "\t\tif valor < 0:\r\n",
    "\t\t\traise ValueError(\"No es posible convertir distancias menores a 0.\")\r\n",
    "\t\tself._distancia = valor"
   ]
  },
  {
   "cell_type": "markdown",
   "metadata": {},
   "source": [
    "## El método getter obtendrá el valor de la distancia que y el método setter se encargará de añadir una restricción. También debemos notar cómo distancia fue reemplazado por _distancia, denotando que es una variable privada.\r\n",
    "\r\n",
    "## Si probamos nuestro código funcionará, la desventaja es que cualquier aplicación que hayamos creado con una base similar deberá ser actualizado. Esto no es nada escalable si tenemos cientos o miles de líneas de código."
   ]
  },
  {
   "cell_type": "markdown",
   "metadata": {},
   "source": [
    "# Funcion property"
   ]
  },
  {
   "cell_type": "markdown",
   "metadata": {},
   "source": [
    "## la función tiene cuatro atributos: property(fget, fset, fdel, fdoc) :"
   ]
  },
  {
   "cell_type": "code",
   "execution_count": 32,
   "metadata": {},
   "outputs": [
    {
     "name": "stdout",
     "output_type": "stream",
     "text": [
      "Llamada al método setter\n",
      "Llamada al método getter\n",
      "200\n"
     ]
    }
   ],
   "source": [
    "class Millas:\r\n",
    "    def __init__(self):\r\n",
    "        self._distancia = 0\r\n",
    "\r\n",
    "    # Función para obtener el valor de _distancia\r\n",
    "    def obtener_distancia(self):\r\n",
    "        print(\"Llamada al método getter\")\r\n",
    "        return self._distancia\r\n",
    "\r\n",
    "    # Función para definir el valor de _distancia\r\n",
    "    def definir_distancia(self, recorrido):\r\n",
    "        print(\"Llamada al método setter\")\r\n",
    "        self._distancia = recorrido\r\n",
    "\r\n",
    "    # Función para eliminar el atributo _distancia\r\n",
    "    def eliminar_distancia(self):\r\n",
    "        del self._distancia\r\n",
    "\r\n",
    "    distancia = property(obtener_distancia, definir_distancia, eliminar_distancia)\r\n",
    "\r\n",
    "# Creamos un nuevo objeto \r\n",
    "avion = Millas()\r\n",
    "\r\n",
    "# Indicamos la distancia\r\n",
    "avion.distancia = 200\r\n",
    "\r\n",
    "\r\n",
    "print(avion.distancia)"
   ]
  },
  {
   "cell_type": "markdown",
   "metadata": {},
   "source": [
    "## Decorador Property"
   ]
  },
  {
   "cell_type": "code",
   "execution_count": 2,
   "metadata": {},
   "outputs": [
    {
     "name": "stdout",
     "output_type": "stream",
     "text": [
      "Llamada al método getter\n",
      "0\n"
     ]
    }
   ],
   "source": [
    "class Millas:\r\n",
    "\tdef __init__(self):\r\n",
    "\t\tself._distancia = 0\r\n",
    "\r\n",
    "\t# Función para obtener el valor de _distancia\r\n",
    "\t# Usando el decorador property\r\n",
    "\t@property\r\n",
    "\tdef obtener_distancia(self):\r\n",
    "\t\tprint(\"Llamada al método getter\")\r\n",
    "\t\treturn self._distancia\r\n",
    "\r\n",
    "\t# Función para definir el valor de _distancia\r\n",
    "\t@obtener_distancia.setter\r\n",
    "\tdef definir_distancia(self, valor):\r\n",
    "\t\tif valor < 0:\r\n",
    "\t\t\traise ValueError(\"No es posible convertir distancias menores a 0.\")\r\n",
    "\t\tprint(\"Llamada al método setter\")\r\n",
    "\t\tself._distancia = valor\r\n",
    "\r\n",
    "# Creamos un nuevo objeto \r\n",
    "avion = Millas()\r\n",
    "\r\n",
    "# Indicamos la distancia\r\n",
    "avion.distancia = 200\r\n",
    "\r\n",
    "# Obtenemos su atributo distancia\r\n",
    "print(avion.definir_distancia)"
   ]
  },
  {
   "cell_type": "markdown",
   "metadata": {},
   "source": [
    "### De esta manera usamos el decorador @property para utilizar getters y setters de una forma más prolija e incluimos una nueva funcionalidad a nuestro método definir_distancia() , al mismo tiempo protegemos el acceso a nuestras variables privadas y cumplimos con el principio de encapsulación.\r\n"
   ]
  },
  {
   "cell_type": "markdown",
   "metadata": {},
   "source": []
  }
 ],
 "metadata": {
  "interpreter": {
   "hash": "57baa5815c940fdaff4d14510622de9616cae602444507ba5d0b6727c008cbd6"
  },
  "kernelspec": {
   "display_name": "Python 3.7.8 64-bit",
   "name": "python3"
  },
  "language_info": {
   "codemirror_mode": {
    "name": "ipython",
    "version": 3
   },
   "file_extension": ".py",
   "mimetype": "text/x-python",
   "name": "python",
   "nbconvert_exporter": "python",
   "pygments_lexer": "ipython3",
   "version": "3.7.8"
  },
  "orig_nbformat": 4
 },
 "nbformat": 4,
 "nbformat_minor": 2
}