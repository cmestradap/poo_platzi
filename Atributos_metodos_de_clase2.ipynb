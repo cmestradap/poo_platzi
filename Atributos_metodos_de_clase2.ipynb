{
 "cells": [
  {
   "cell_type": "markdown",
   "metadata": {},
   "source": [
    "# Curso POO Python\r\n",
    "\r\n",
    "#### Todas las clases crean objetos y todos los objetos tienen atributos. Utilizamos el método especial __init__ para definir el estado inicial de nuestra instancia. Recibe como primer parámetro obligatorio self (que es simplemente una referencia a la instancia)."
   ]
  },
  {
   "cell_type": "code",
   "execution_count": 9,
   "metadata": {},
   "outputs": [],
   "source": [
    "class Hotel:\r\n",
    "    \r\n",
    "    def __init__(self, numero_maximo_de_huespedes, lugares_de_estacionamiento):\r\n",
    "        self.numero_maximo_de_huespedes = numero_maximo_de_huespedes\r\n",
    "        self.lugares_de_estacionamiento = lugares_de_estacionamiento\r\n",
    "        self.huespedes = 0\r\n"
   ]
  },
  {
   "cell_type": "code",
   "execution_count": 10,
   "metadata": {},
   "outputs": [
    {
     "name": "stdout",
     "output_type": "stream",
     "text": [
      "20\n"
     ]
    }
   ],
   "source": [
    "hotel = Hotel(numero_maximo_de_huespedes=50, lugares_de_estacionamiento=20)\r\n",
    "print(hotel.lugares_de_estacionamiento) # 20"
   ]
  },
  {
   "cell_type": "markdown",
   "metadata": {},
   "source": [
    "### Métodos de la instancia"
   ]
  },
  {
   "cell_type": "code",
   "execution_count": 11,
   "metadata": {},
   "outputs": [],
   "source": [
    "class Hotel:\r\n",
    "\r\n",
    "    ...\r\n",
    "\r\n",
    "    def anadir_huespedes(self, cantidad_de_huespedes):\r\n",
    "        self.huespedes += cantidad_de_huespedes\r\n",
    "\r\n",
    "    def checkout(self, cantidad_de_huespedes):\r\n",
    "        self.huespedes -= cantidad_de_huespedes\r\n",
    "\r\n",
    "    def ocupacion_total(self):\r\n",
    "        return self.huespedes\r\n"
   ]
  },
  {
   "cell_type": "code",
   "execution_count": null,
   "metadata": {},
   "outputs": [],
   "source": [
    "hotel = Hotel(50, 20)\r\n",
    "hotel.anadir_huespedes(3)\r\n",
    "hotel.checkout(1)\r\n",
    "hotel.ocupacion_total() # 2"
   ]
  }
 ],
 "metadata": {
  "interpreter": {
   "hash": "6d46af94c2bbce495f1e668725902fa517c90b1782bcfe2fce0dd9868df553d3"
  },
  "kernelspec": {
   "display_name": "Python 3.8.5 64-bit ('base': conda)",
   "name": "python3"
  },
  "language_info": {
   "codemirror_mode": {
    "name": "ipython",
    "version": 3
   },
   "file_extension": ".py",
   "mimetype": "text/x-python",
   "name": "python",
   "nbconvert_exporter": "python",
   "pygments_lexer": "ipython3",
   "version": "3.8.5"
  },
  "orig_nbformat": 4
 },
 "nbformat": 4,
 "nbformat_minor": 2
}