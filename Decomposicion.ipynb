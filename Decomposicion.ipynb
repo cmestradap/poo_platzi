{
 "cells": [
  {
   "cell_type": "markdown",
   "metadata": {},
   "source": [
    "# Decomposicion\r\n",
    "\r\n",
    "* Partir un problema en problemas más pequeños\r\n",
    "* Las clases permiten crear mayores abstracciones en forma de componentes\r\n",
    "* Cada clase se encarga de una parte del problema y el programa se vuelve más facil de mantener"
   ]
  },
  {
   "cell_type": "code",
   "execution_count": null,
   "metadata": {},
   "outputs": [],
   "source": [
    "class Automovil:\r\n",
    "\r\n",
    "    def __init__(self, modelo, marca, color):\r\n",
    "        self.modelo = modelo\r\n",
    "        self.marca = marca\r\n",
    "        self.color = color\r\n",
    "        self._estado = 'en_reposo'\r\n",
    "        self.motor = Motor(cilindros=4)\r\n",
    "\r\n",
    "    def acelerar(self, tipo='despacio')\r\n",
    "\r\n",
    "        if tipo == 'rapida':\r\n",
    "            self._motor.inyecta_gasolina(10)\r\n",
    "        else:\r\n",
    "            self._motor.inyecta_gasolina(3)\r\n",
    "\r\n",
    "        self._estado = 'en_movimiento'\r\n",
    "\r\n",
    "class Motor:\r\n",
    "\r\n",
    "    #default keyword, directamente estamos diciendo que el tipo es de gasolina\r\n",
    "    def __init__(self, cilindros, tipo='gasolina')\r\n",
    "        self.cilindros = cilindros\r\n",
    "        self.tipo = tipo\r\n",
    "        self.temperatura = 0\r\n",
    "\r\n",
    "\r\n",
    "    def inyecta_gasolina(self, cantidad):\r\n",
    "        pass\r\n",
    "\r\n",
    "\r\n",
    "\r\n"
   ]
  },
  {
   "cell_type": "code",
   "execution_count": null,
   "metadata": {},
   "outputs": [],
   "source": []
  }
 ],
 "metadata": {
  "interpreter": {
   "hash": "6d46af94c2bbce495f1e668725902fa517c90b1782bcfe2fce0dd9868df553d3"
  },
  "kernelspec": {
   "display_name": "Python 3.8.5 64-bit ('base': conda)",
   "name": "python3"
  },
  "language_info": {
   "name": "python",
   "version": ""
  },
  "orig_nbformat": 4
 },
 "nbformat": 4,
 "nbformat_minor": 2
}