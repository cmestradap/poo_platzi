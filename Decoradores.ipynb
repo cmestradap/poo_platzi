{
 "cells": [
  {
   "cell_type": "markdown",
   "metadata": {},
   "source": [
    "# Decoradores en Python\r\n",
    "\r\n",
    "## Los decoradores me sirven para añadir funcionalidades adicionales a una funcion"
   ]
  },
  {
   "cell_type": "code",
   "execution_count": 19,
   "metadata": {},
   "outputs": [
    {
     "name": "stdout",
     "output_type": "stream",
     "text": [
      "Este es el último mensaje...\n",
      "Buzzzzzz\n",
      "Este es el primer mensaje ;)\n"
     ]
    }
   ],
   "source": [
    "def funcion_decoradora(funcion):\r\n",
    "\tdef wrapper():\r\n",
    "\t\tprint(\"Este es el último mensaje...\")\r\n",
    "\t\tfuncion()\r\n",
    "\t\tprint(\"Este es el primer mensaje ;)\")\r\n",
    "\treturn wrapper\r\n",
    "\r\n",
    "def zumbido():\r\n",
    "\tprint(\"Buzzzzzz\")\r\n",
    "\r\n",
    "zumbido = funcion_decoradora(zumbido)\r\n",
    "\r\n",
    "zumbido()\r\n"
   ]
  },
  {
   "cell_type": "code",
   "execution_count": 4,
   "metadata": {},
   "outputs": [
    {
     "name": "stdout",
     "output_type": "stream",
     "text": [
      "Este es el último mensaje...\n",
      "Buzzzzzz\n",
      "Este es el primer mensaje ;)\n"
     ]
    }
   ],
   "source": [
    "@funcion_decoradora\r\n",
    "def zumbido():\r\n",
    "    print(\"Buzzzzzz\")\r\n",
    "\r\n",
    "zumbido()"
   ]
  },
  {
   "cell_type": "markdown",
   "metadata": {},
   "source": [
    "# Otros ejemplos sobre los decoradores\r\n",
    "\r\n",
    "## Decoradores en clases de Python"
   ]
  },
  {
   "cell_type": "markdown",
   "metadata": {},
   "source": []
  },
  {
   "cell_type": "code",
   "execution_count": 27,
   "metadata": {},
   "outputs": [
    {
     "name": "stdout",
     "output_type": "stream",
     "text": [
      "Inicia la preparacion\n",
      "Ya inicio la preparacion\n",
      "Finaliza la preparacion\n"
     ]
    }
   ],
   "source": [
    "\r\n",
    "def pedir_hamburguesa(pan):\r\n",
    "    def preparar_hamburguesa():\r\n",
    "        print(\"Inicia la preparacion\")\r\n",
    "        pan()\r\n",
    "        #carne()\r\n",
    "        print(\"Finaliza la preparacion\")\r\n",
    "    return preparar_hamburguesa\r\n",
    "\r\n",
    "@pedir_hamburguesa\r\n",
    "def realizar_pedido_hamburguesa():\r\n",
    "    print(\"Ya inicio la preparacion\")\r\n",
    "\r\n",
    "realizar_pedido_hamburguesa()\r\n",
    "    "
   ]
  },
  {
   "cell_type": "code",
   "execution_count": null,
   "metadata": {},
   "outputs": [],
   "source": []
  }
 ],
 "metadata": {
  "interpreter": {
   "hash": "57baa5815c940fdaff4d14510622de9616cae602444507ba5d0b6727c008cbd6"
  },
  "kernelspec": {
   "display_name": "Python 3.7.8 64-bit",
   "name": "python3"
  },
  "language_info": {
   "name": "python",
   "version": ""
  },
  "orig_nbformat": 4
 },
 "nbformat": 4,
 "nbformat_minor": 2
}